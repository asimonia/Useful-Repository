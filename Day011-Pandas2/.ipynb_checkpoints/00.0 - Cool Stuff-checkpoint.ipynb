{
 "cells": [
  {
   "cell_type": "code",
   "execution_count": 14,
   "metadata": {},
   "outputs": [
    {
     "name": "stdout",
     "output_type": "stream",
     "text": [
      "x is truthy\n"
     ]
    }
   ],
   "source": [
    "x =  1\n",
    "if x:\n",
    "    print('x is truthy')\n",
    "else:\n",
    "    print('x is falsey')"
   ]
  },
  {
   "cell_type": "code",
   "execution_count": 4,
   "metadata": {},
   "outputs": [
    {
     "name": "stdout",
     "output_type": "stream",
     "text": [
      "2\n",
      "4\n",
      "6\n",
      "8\n",
      "12\n",
      "14\n",
      "16\n",
      "18\n",
      "22\n",
      "24\n",
      "26\n",
      "28\n",
      "32\n",
      "34\n",
      "36\n",
      "38\n",
      "42\n",
      "44\n",
      "46\n",
      "48\n",
      "52\n",
      "54\n",
      "56\n",
      "58\n",
      "62\n",
      "64\n",
      "66\n",
      "68\n",
      "72\n",
      "74\n",
      "76\n",
      "78\n"
     ]
    },
    {
     "ename": "SystemExit",
     "evalue": "",
     "output_type": "error",
     "traceback": [
      "An exception has occurred, use %tb to see the full traceback.\n",
      "\u001b[1;31mSystemExit\u001b[0m\n"
     ]
    }
   ],
   "source": [
    "import sys\n",
    "\n",
    "for x in range(2, 100, 2):\n",
    "    if (x % 10):\n",
    "        print(x)\n",
    "    elif (x >= 80):\n",
    "        sys.exit()\n",
    "    else:\n",
    "        continue"
   ]
  },
  {
   "cell_type": "code",
   "execution_count": 16,
   "metadata": {},
   "outputs": [
    {
     "name": "stdout",
     "output_type": "stream",
     "text": [
      "Hello\n",
      "None\n",
      "Aaaagh\n"
     ]
    }
   ],
   "source": [
    "result = print(\"Hello\")\n",
    "print(result)\n",
    "\n",
    "if result == None:\n",
    "    print('Aaaagh')"
   ]
  },
  {
   "cell_type": "code",
   "execution_count": 17,
   "metadata": {},
   "outputs": [
    {
     "name": "stdout",
     "output_type": "stream",
     "text": [
      "None\n"
     ]
    }
   ],
   "source": [
    "def retNone():\n",
    "     return \n",
    "\n",
    "print(retNone())"
   ]
  },
  {
   "cell_type": "code",
   "execution_count": 8,
   "metadata": {},
   "outputs": [
    {
     "name": "stdout",
     "output_type": "stream",
     "text": [
      "Invalid denominator\n"
     ]
    }
   ],
   "source": [
    "try:\n",
    "    x = 10\n",
    "    y = 0\n",
    "    z = x / y\n",
    "except ZeroDivisionError:\n",
    "    print(\"Invalid denominator\")"
   ]
  },
  {
   "cell_type": "code",
   "execution_count": 18,
   "metadata": {},
   "outputs": [
    {
     "name": "stdout",
     "output_type": "stream",
     "text": [
      "fish\n",
      "dog\n",
      "emu\n"
     ]
    }
   ],
   "source": [
    "list = ['fish', 'dog', 'cat', 'gorilla', 'emu']\n",
    "print(list[0])\n",
    "print(list[1])\n",
    "print(list[-1])"
   ]
  },
  {
   "cell_type": "code",
   "execution_count": null,
   "metadata": {},
   "outputs": [],
   "source": []
  }
 ],
 "metadata": {
  "kernelspec": {
   "display_name": "Python 3",
   "language": "python",
   "name": "python3"
  },
  "language_info": {
   "codemirror_mode": {
    "name": "ipython",
    "version": 3
   },
   "file_extension": ".py",
   "mimetype": "text/x-python",
   "name": "python",
   "nbconvert_exporter": "python",
   "pygments_lexer": "ipython3",
   "version": "3.7.3"
  }
 },
 "nbformat": 4,
 "nbformat_minor": 2
}
