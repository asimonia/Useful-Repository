{
 "cells": [
  {
   "cell_type": "code",
   "execution_count": 1,
   "metadata": {},
   "outputs": [],
   "source": [
    "# Dependencies\n",
    "import pandas as pd\n",
    "import numpy as np"
   ]
  },
  {
   "cell_type": "code",
   "execution_count": 2,
   "metadata": {
    "inputHidden": false,
    "outputHidden": false
   },
   "outputs": [],
   "source": [
    "# Name of the CSV file\n",
    "file = '../Resources/donors2008_unclean.csv'"
   ]
  },
  {
   "cell_type": "code",
   "execution_count": 3,
   "metadata": {
    "inputHidden": false,
    "outputHidden": false
   },
   "outputs": [],
   "source": [
    "# The correct encoding must be used to read the CSV in pandas\n",
    "df = pd.read_csv(file, encoding=\"ISO-8859-1\")"
   ]
  },
  {
   "cell_type": "code",
   "execution_count": 5,
   "metadata": {
    "inputHidden": false,
    "outputHidden": false
   },
   "outputs": [
    {
     "data": {
      "text/html": [
       "<div>\n",
       "<style scoped>\n",
       "    .dataframe tbody tr th:only-of-type {\n",
       "        vertical-align: middle;\n",
       "    }\n",
       "\n",
       "    .dataframe tbody tr th {\n",
       "        vertical-align: top;\n",
       "    }\n",
       "\n",
       "    .dataframe thead th {\n",
       "        text-align: right;\n",
       "    }\n",
       "</style>\n",
       "<table border=\"1\" class=\"dataframe\">\n",
       "  <thead>\n",
       "    <tr style=\"text-align: right;\">\n",
       "      <th></th>\n",
       "      <th>LastName</th>\n",
       "      <th>FirstName</th>\n",
       "      <th>Employer</th>\n",
       "      <th>City</th>\n",
       "      <th>State</th>\n",
       "      <th>Zip</th>\n",
       "      <th>Amount</th>\n",
       "      <th>FIELD8</th>\n",
       "    </tr>\n",
       "  </thead>\n",
       "  <tbody>\n",
       "    <tr>\n",
       "      <th>0</th>\n",
       "      <td>Aaron</td>\n",
       "      <td>Eugene</td>\n",
       "      <td>State Department</td>\n",
       "      <td>Dulles</td>\n",
       "      <td>VA</td>\n",
       "      <td>20189</td>\n",
       "      <td>500.0</td>\n",
       "      <td>NaN</td>\n",
       "    </tr>\n",
       "    <tr>\n",
       "      <th>1</th>\n",
       "      <td>Abadi</td>\n",
       "      <td>Barbara</td>\n",
       "      <td>Abadi &amp; Co.</td>\n",
       "      <td>New York</td>\n",
       "      <td>NY</td>\n",
       "      <td>10021</td>\n",
       "      <td>200.0</td>\n",
       "      <td>NaN</td>\n",
       "    </tr>\n",
       "    <tr>\n",
       "      <th>2</th>\n",
       "      <td>Adamany</td>\n",
       "      <td>Anthony</td>\n",
       "      <td>Retired</td>\n",
       "      <td>Rockford</td>\n",
       "      <td>IL</td>\n",
       "      <td>61103</td>\n",
       "      <td>500.0</td>\n",
       "      <td>NaN</td>\n",
       "    </tr>\n",
       "    <tr>\n",
       "      <th>3</th>\n",
       "      <td>Adams</td>\n",
       "      <td>Lorraine</td>\n",
       "      <td>Self</td>\n",
       "      <td>New York</td>\n",
       "      <td>NY</td>\n",
       "      <td>10026</td>\n",
       "      <td>200.0</td>\n",
       "      <td>NaN</td>\n",
       "    </tr>\n",
       "    <tr>\n",
       "      <th>4</th>\n",
       "      <td>Adams</td>\n",
       "      <td>Marion</td>\n",
       "      <td>None</td>\n",
       "      <td>Exeter</td>\n",
       "      <td>NH</td>\n",
       "      <td>03833</td>\n",
       "      <td>100.0</td>\n",
       "      <td>NaN</td>\n",
       "    </tr>\n",
       "    <tr>\n",
       "      <th>5</th>\n",
       "      <td>Adams</td>\n",
       "      <td>Michelle</td>\n",
       "      <td>Gordon Training</td>\n",
       "      <td>Carlsbad</td>\n",
       "      <td>CA</td>\n",
       "      <td>92009</td>\n",
       "      <td>100.0</td>\n",
       "      <td>NaN</td>\n",
       "    </tr>\n",
       "    <tr>\n",
       "      <th>6</th>\n",
       "      <td>Adamson</td>\n",
       "      <td>Nelson</td>\n",
       "      <td>Marquette General Hosp</td>\n",
       "      <td>Iron Mountain</td>\n",
       "      <td>MI</td>\n",
       "      <td>49801</td>\n",
       "      <td>500.0</td>\n",
       "      <td>NaN</td>\n",
       "    </tr>\n",
       "    <tr>\n",
       "      <th>7</th>\n",
       "      <td>Adelman</td>\n",
       "      <td>Clifford</td>\n",
       "      <td>Self</td>\n",
       "      <td>Kensington</td>\n",
       "      <td>MD</td>\n",
       "      <td>20895</td>\n",
       "      <td>250.0</td>\n",
       "      <td>NaN</td>\n",
       "    </tr>\n",
       "    <tr>\n",
       "      <th>8</th>\n",
       "      <td>Adida</td>\n",
       "      <td>Ben</td>\n",
       "      <td>Harvard University</td>\n",
       "      <td>Mountain View</td>\n",
       "      <td>CA</td>\n",
       "      <td>94043</td>\n",
       "      <td>200.0</td>\n",
       "      <td>NaN</td>\n",
       "    </tr>\n",
       "    <tr>\n",
       "      <th>9</th>\n",
       "      <td>Adler</td>\n",
       "      <td>Michael M.</td>\n",
       "      <td>Adler Group, Inc.</td>\n",
       "      <td>Miami Beach</td>\n",
       "      <td>FL</td>\n",
       "      <td>33172</td>\n",
       "      <td>5000.0</td>\n",
       "      <td>NaN</td>\n",
       "    </tr>\n",
       "    <tr>\n",
       "      <th>10</th>\n",
       "      <td>Adler</td>\n",
       "      <td>Susan</td>\n",
       "      <td>None</td>\n",
       "      <td>Chicago</td>\n",
       "      <td>IL</td>\n",
       "      <td>60611</td>\n",
       "      <td>50.0</td>\n",
       "      <td>NaN</td>\n",
       "    </tr>\n",
       "    <tr>\n",
       "      <th>11</th>\n",
       "      <td>Aghayan</td>\n",
       "      <td>Alexander</td>\n",
       "      <td>Law Offices Of Alexander Aghayan</td>\n",
       "      <td>White Plains</td>\n",
       "      <td>NY</td>\n",
       "      <td>10601</td>\n",
       "      <td>1000.0</td>\n",
       "      <td>NaN</td>\n",
       "    </tr>\n",
       "    <tr>\n",
       "      <th>12</th>\n",
       "      <td>Ahrens</td>\n",
       "      <td>William</td>\n",
       "      <td>The Boeing Co</td>\n",
       "      <td>Burien</td>\n",
       "      <td>WA</td>\n",
       "      <td>98166</td>\n",
       "      <td>100.0</td>\n",
       "      <td>NaN</td>\n",
       "    </tr>\n",
       "    <tr>\n",
       "      <th>13</th>\n",
       "      <td>Ahuja</td>\n",
       "      <td>Maria T.</td>\n",
       "      <td>NaN</td>\n",
       "      <td>New York</td>\n",
       "      <td>NY</td>\n",
       "      <td>10021</td>\n",
       "      <td>1000.0</td>\n",
       "      <td>NaN</td>\n",
       "    </tr>\n",
       "    <tr>\n",
       "      <th>14</th>\n",
       "      <td>Alcindor</td>\n",
       "      <td>Adele</td>\n",
       "      <td>Self Employed</td>\n",
       "      <td>West Hempstead</td>\n",
       "      <td>NY</td>\n",
       "      <td>11552</td>\n",
       "      <td>250.0</td>\n",
       "      <td>NaN</td>\n",
       "    </tr>\n",
       "  </tbody>\n",
       "</table>\n",
       "</div>"
      ],
      "text/plain": [
       "    LastName   FirstName                          Employer            City  \\\n",
       "0      Aaron      Eugene                  State Department          Dulles   \n",
       "1      Abadi     Barbara                       Abadi & Co.        New York   \n",
       "2    Adamany     Anthony                           Retired        Rockford   \n",
       "3      Adams    Lorraine                              Self        New York   \n",
       "4      Adams      Marion                              None          Exeter   \n",
       "5      Adams    Michelle                   Gordon Training        Carlsbad   \n",
       "6    Adamson      Nelson            Marquette General Hosp   Iron Mountain   \n",
       "7    Adelman    Clifford                              Self      Kensington   \n",
       "8      Adida         Ben                Harvard University   Mountain View   \n",
       "9      Adler  Michael M.                 Adler Group, Inc.     Miami Beach   \n",
       "10     Adler       Susan                              None         Chicago   \n",
       "11   Aghayan   Alexander  Law Offices Of Alexander Aghayan    White Plains   \n",
       "12    Ahrens     William                     The Boeing Co          Burien   \n",
       "13     Ahuja    Maria T.                               NaN        New York   \n",
       "14  Alcindor       Adele                     Self Employed  West Hempstead   \n",
       "\n",
       "   State    Zip  Amount  FIELD8  \n",
       "0     VA  20189   500.0     NaN  \n",
       "1     NY  10021   200.0     NaN  \n",
       "2     IL  61103   500.0     NaN  \n",
       "3     NY  10026   200.0     NaN  \n",
       "4     NH  03833   100.0     NaN  \n",
       "5     CA  92009   100.0     NaN  \n",
       "6     MI  49801   500.0     NaN  \n",
       "7     MD  20895   250.0     NaN  \n",
       "8     CA  94043   200.0     NaN  \n",
       "9     FL  33172  5000.0     NaN  \n",
       "10    IL  60611    50.0     NaN  \n",
       "11    NY  10601  1000.0     NaN  \n",
       "12    WA  98166   100.0     NaN  \n",
       "13    NY  10021  1000.0     NaN  \n",
       "14    NY  11552   250.0     NaN  "
      ]
     },
     "execution_count": 5,
     "metadata": {},
     "output_type": "execute_result"
    }
   ],
   "source": [
    "# Preview of the DataFrame\n",
    "# Note that FIELD8 is likely a meaningless column\n",
    "df.head(15)"
   ]
  },
  {
   "cell_type": "code",
   "execution_count": 6,
   "metadata": {
    "inputHidden": false,
    "outputHidden": false
   },
   "outputs": [
    {
     "data": {
      "text/html": [
       "<div>\n",
       "<style scoped>\n",
       "    .dataframe tbody tr th:only-of-type {\n",
       "        vertical-align: middle;\n",
       "    }\n",
       "\n",
       "    .dataframe tbody tr th {\n",
       "        vertical-align: top;\n",
       "    }\n",
       "\n",
       "    .dataframe thead th {\n",
       "        text-align: right;\n",
       "    }\n",
       "</style>\n",
       "<table border=\"1\" class=\"dataframe\">\n",
       "  <thead>\n",
       "    <tr style=\"text-align: right;\">\n",
       "      <th></th>\n",
       "      <th>LastName</th>\n",
       "      <th>FirstName</th>\n",
       "      <th>Employer</th>\n",
       "      <th>City</th>\n",
       "      <th>State</th>\n",
       "      <th>Zip</th>\n",
       "      <th>Amount</th>\n",
       "    </tr>\n",
       "  </thead>\n",
       "  <tbody>\n",
       "    <tr>\n",
       "      <th>0</th>\n",
       "      <td>Aaron</td>\n",
       "      <td>Eugene</td>\n",
       "      <td>State Department</td>\n",
       "      <td>Dulles</td>\n",
       "      <td>VA</td>\n",
       "      <td>20189</td>\n",
       "      <td>500.0</td>\n",
       "    </tr>\n",
       "    <tr>\n",
       "      <th>1</th>\n",
       "      <td>Abadi</td>\n",
       "      <td>Barbara</td>\n",
       "      <td>Abadi &amp; Co.</td>\n",
       "      <td>New York</td>\n",
       "      <td>NY</td>\n",
       "      <td>10021</td>\n",
       "      <td>200.0</td>\n",
       "    </tr>\n",
       "    <tr>\n",
       "      <th>2</th>\n",
       "      <td>Adamany</td>\n",
       "      <td>Anthony</td>\n",
       "      <td>Retired</td>\n",
       "      <td>Rockford</td>\n",
       "      <td>IL</td>\n",
       "      <td>61103</td>\n",
       "      <td>500.0</td>\n",
       "    </tr>\n",
       "    <tr>\n",
       "      <th>3</th>\n",
       "      <td>Adams</td>\n",
       "      <td>Lorraine</td>\n",
       "      <td>Self</td>\n",
       "      <td>New York</td>\n",
       "      <td>NY</td>\n",
       "      <td>10026</td>\n",
       "      <td>200.0</td>\n",
       "    </tr>\n",
       "    <tr>\n",
       "      <th>4</th>\n",
       "      <td>Adams</td>\n",
       "      <td>Marion</td>\n",
       "      <td>None</td>\n",
       "      <td>Exeter</td>\n",
       "      <td>NH</td>\n",
       "      <td>03833</td>\n",
       "      <td>100.0</td>\n",
       "    </tr>\n",
       "  </tbody>\n",
       "</table>\n",
       "</div>"
      ],
      "text/plain": [
       "  LastName FirstName          Employer      City State    Zip  Amount\n",
       "0    Aaron    Eugene  State Department    Dulles    VA  20189   500.0\n",
       "1    Abadi   Barbara       Abadi & Co.  New York    NY  10021   200.0\n",
       "2  Adamany   Anthony           Retired  Rockford    IL  61103   500.0\n",
       "3    Adams  Lorraine              Self  New York    NY  10026   200.0\n",
       "4    Adams    Marion              None    Exeter    NH  03833   100.0"
      ]
     },
     "execution_count": 6,
     "metadata": {},
     "output_type": "execute_result"
    }
   ],
   "source": [
    "# Delete extraneous column\n",
    "del df['FIELD8']\n",
    "df.head()"
   ]
  },
  {
   "cell_type": "code",
   "execution_count": 7,
   "metadata": {
    "inputHidden": false,
    "outputHidden": false
   },
   "outputs": [
    {
     "data": {
      "text/plain": [
       "LastName     1776\n",
       "FirstName    1776\n",
       "Employer     1743\n",
       "City         1776\n",
       "State        1776\n",
       "Zip          1776\n",
       "Amount       1776\n",
       "dtype: int64"
      ]
     },
     "execution_count": 7,
     "metadata": {},
     "output_type": "execute_result"
    }
   ],
   "source": [
    "# Identify incomplete rows\n",
    "df.count()"
   ]
  },
  {
   "cell_type": "code",
   "execution_count": 8,
   "metadata": {
    "inputHidden": false,
    "outputHidden": false
   },
   "outputs": [],
   "source": [
    "# Drop all rows with missing information\n",
    "df = df.dropna(how='any')"
   ]
  },
  {
   "cell_type": "code",
   "execution_count": 9,
   "metadata": {
    "inputHidden": false,
    "outputHidden": false
   },
   "outputs": [
    {
     "data": {
      "text/plain": [
       "LastName     1743\n",
       "FirstName    1743\n",
       "Employer     1743\n",
       "City         1743\n",
       "State        1743\n",
       "Zip          1743\n",
       "Amount       1743\n",
       "dtype: int64"
      ]
     },
     "execution_count": 9,
     "metadata": {},
     "output_type": "execute_result"
    }
   ],
   "source": [
    "# Verify dropped rows\n",
    "df.count()"
   ]
  },
  {
   "cell_type": "code",
   "execution_count": 10,
   "metadata": {
    "inputHidden": false,
    "outputHidden": false
   },
   "outputs": [
    {
     "data": {
      "text/plain": [
       "LastName      object\n",
       "FirstName     object\n",
       "Employer      object\n",
       "City          object\n",
       "State         object\n",
       "Zip           object\n",
       "Amount       float64\n",
       "dtype: object"
      ]
     },
     "execution_count": 10,
     "metadata": {},
     "output_type": "execute_result"
    }
   ],
   "source": [
    "# The Amount column is the wrong data type. It should be numeric.\n",
    "df.dtypes"
   ]
  },
  {
   "cell_type": "code",
   "execution_count": 13,
   "metadata": {
    "inputHidden": false,
    "outputHidden": false
   },
   "outputs": [],
   "source": [
    "# Use pd.to_numeric() method to convert the datatype of the Amount column\n",
    "df['Amount'] = pd.to_numeric(df['Amount'])"
   ]
  },
  {
   "cell_type": "code",
   "execution_count": 11,
   "metadata": {
    "inputHidden": false,
    "outputHidden": false
   },
   "outputs": [
    {
     "data": {
      "text/plain": [
       "dtype('float64')"
      ]
     },
     "execution_count": 11,
     "metadata": {},
     "output_type": "execute_result"
    }
   ],
   "source": [
    "# Verify that the Amount column datatype has been made numeric\n",
    "df['Amount'].dtype"
   ]
  },
  {
   "cell_type": "code",
   "execution_count": 12,
   "metadata": {
    "inputHidden": false,
    "outputHidden": false
   },
   "outputs": [
    {
     "data": {
      "text/plain": [
       "None                                            249\n",
       "Self                                            241\n",
       "Retired                                         126\n",
       "Self Employed                                    39\n",
       "Self-Employed                                    34\n",
       "Google                                            6\n",
       "Unemployed                                        4\n",
       "Not Employed                                      4\n",
       "University of California                          3\n",
       "Bank Of America                                   3\n",
       "Social Security Administration                    3\n",
       "Hugo Neu Corporation                              2\n",
       "University of Washington                          2\n",
       "Ariel Investments                                 2\n",
       "Federal Government                                2\n",
       "State Department                                  2\n",
       "Quadrangle Group                                  2\n",
       "Covington & Burling                               2\n",
       "Harvard University                                2\n",
       "University of Michigan                            2\n",
       "University Hospital                               2\n",
       "Davis Polk & Wardwell                             2\n",
       "Google, Inc.                                      2\n",
       "Sidley Austin LLP                                 2\n",
       "LMI                                               2\n",
       "ExxonMobil                                        2\n",
       "Jones Day                                         2\n",
       "Microsoft                                         2\n",
       "CSC                                               2\n",
       "Northern Trust                                    2\n",
       "                                               ... \n",
       "Florida State University                          1\n",
       "Economic Empowerment Initiative, Inc.             1\n",
       "Commonwealth Of Pennsylvania                      1\n",
       "Kent State Univ.                                  1\n",
       "Santa Maria Joint Union High School District      1\n",
       "Baupost                                           1\n",
       "Retired UNC-CH                                    1\n",
       "Kayak Software Corp                               1\n",
       "Slocum Dickson                                    1\n",
       "Allegheny Energy, Inc.                            1\n",
       "Island Style Weddings                             1\n",
       "Deloitte & Touche LLP                             1\n",
       "San Jaoquin County                                1\n",
       "Inland Valley Infectious Disease Med Grp          1\n",
       "Alston & Bird LLP                                 1\n",
       "Hussman Econometrics Advisors                     1\n",
       "New York University                               1\n",
       "Thornburg Investment Management                   1\n",
       "Perfect Circle CU                                 1\n",
       "Paddock Publishing, Inc                           1\n",
       "St. John & Associates                             1\n",
       "Binke's Restaurant                                1\n",
       "Ellis  Hospital                                   1\n",
       "Lucasfilm Ltd.                                    1\n",
       "Early McClintic & McMillan, LLP                   1\n",
       "Save The Children                                 1\n",
       "Joseph A Williams P.A. Attys At Law               1\n",
       "Vesbridge Partners, LLC                           1\n",
       "Neighborworks America                             1\n",
       "FreeLanceUSA                                      1\n",
       "Name: Employer, Length: 1011, dtype: int64"
      ]
     },
     "execution_count": 12,
     "metadata": {},
     "output_type": "execute_result"
    }
   ],
   "source": [
    "# Display an overview of the Employers column\n",
    "df['Employer'].value_counts()"
   ]
  },
  {
   "cell_type": "code",
   "execution_count": 13,
   "metadata": {
    "inputHidden": false,
    "outputHidden": false
   },
   "outputs": [],
   "source": [
    "# Clean up Employer category. Replace 'Self Employed' and 'Self' with 'Self-Employed'\n",
    "df['Employer'] = df['Employer'].replace(\n",
    "    {'Self Employed': 'Self-Employed', 'Self': 'Self-Employed'})"
   ]
  },
  {
   "cell_type": "code",
   "execution_count": 20,
   "metadata": {
    "inputHidden": false,
    "outputHidden": false
   },
   "outputs": [
    {
     "data": {
      "text/plain": [
       "Self-Employed                                              314\n",
       "None                                                       249\n",
       "Retired                                                    126\n",
       "Google                                                       6\n",
       "Not Employed                                                 4\n",
       "Unemployed                                                   4\n",
       "University of California                                     3\n",
       "Social Security Administration                               3\n",
       "Bank Of America                                              3\n",
       "Freelance                                                    2\n",
       "Berger & Montague                                            2\n",
       "Newton Public Schools                                        2\n",
       "ExxonMobil                                                   2\n",
       "Henry Crown & Company                                        2\n",
       "State Department                                             2\n",
       "Davis Polk & Wardwell                                        2\n",
       "Rainey Cluss LLC                                             2\n",
       "Hugo Neu Corporation                                         2\n",
       "Sidley Austin LLP                                            2\n",
       "University of Michigan                                       2\n",
       "University Of Michigan                                       2\n",
       "LMI                                                          2\n",
       "Ariel Investments                                            2\n",
       "Federal Government                                           2\n",
       "CSC                                                          2\n",
       "Northern Trust                                               2\n",
       "Mayer Brown                                                  2\n",
       "Microsoft                                                    2\n",
       "United Health Group                                          2\n",
       "University Hospital                                          2\n",
       "                                                          ... \n",
       "Wendy's International, Inc                                   1\n",
       "Donati Law Firm                                              1\n",
       "US Federal Government                                        1\n",
       "Housing And Community Development Network Of New Jersey      1\n",
       "DE Shaw & Co.                                                1\n",
       "UBS                                                          1\n",
       "Covington & Burling LLP                                      1\n",
       "Lewis Rice & Fingersh, LC                                    1\n",
       "The Hairlox Comapny, Llc                                     1\n",
       "Phillips Gallery                                             1\n",
       "Community Educational Center                                 1\n",
       "US Gov't - Federal Aviation Administration                   1\n",
       "George Washington University                                 1\n",
       "Akin Gump LLP                                                1\n",
       "LPAS                                                         1\n",
       "Puma Springs Vineyards                                       1\n",
       "Washington Shakespeare Company                               1\n",
       "Lincolnland Properties                                       1\n",
       "Caudill Seed                                                 1\n",
       "Brinker International., Inc                                  1\n",
       "County of Marin                                              1\n",
       "Retired UNC-CH                                               1\n",
       "BVS, Inc.                                                    1\n",
       "Honeywell International                                      1\n",
       "Cosolidated Edsion Company Of New York                       1\n",
       "Michael H. Berman, P.C.                                      1\n",
       "State Of Michigan                                            1\n",
       "Weil, Gotshal & Manges, LLP                                  1\n",
       "Fulcrum Property Group                                       1\n",
       "Boumatic                                                     1\n",
       "Name: Employer, Length: 1009, dtype: int64"
      ]
     },
     "execution_count": 20,
     "metadata": {},
     "output_type": "execute_result"
    }
   ],
   "source": [
    "# Verify clean-up.\n",
    "df['Employer'].value_counts()"
   ]
  },
  {
   "cell_type": "code",
   "execution_count": 14,
   "metadata": {
    "inputHidden": false,
    "outputHidden": false
   },
   "outputs": [
    {
     "data": {
      "text/plain": [
       "Self-Employed                                   314\n",
       "None                                            249\n",
       "Retired                                         126\n",
       "Unemployed                                        8\n",
       "Google                                            6\n",
       "Social Security Administration                    3\n",
       "Bank Of America                                   3\n",
       "University of California                          3\n",
       "ExxonMobil                                        2\n",
       "Davis Polk & Wardwell                             2\n",
       "University Hospital                               2\n",
       "LMI                                               2\n",
       "Microsoft                                         2\n",
       "University of Michigan                            2\n",
       "Covington & Burling                               2\n",
       "Harvard University                                2\n",
       "State Department                                  2\n",
       "Google, Inc.                                      2\n",
       "Freelance                                         2\n",
       "Henry Crown & Company                             2\n",
       "University Of Michigan                            2\n",
       "Quadrangle Group                                  2\n",
       "CSC                                               2\n",
       "Hugo Neu Corporation                              2\n",
       "University of Washington                          2\n",
       "Mayer Brown LLP                                   2\n",
       "Rainey Cluss LLC                                  2\n",
       "Berger & Montague                                 2\n",
       "Sidley Austin LLP                                 2\n",
       "Jones Day                                         2\n",
       "                                               ... \n",
       "New York University                               1\n",
       "Neighborworks America                             1\n",
       "Inland Valley Infectious Disease Med Grp          1\n",
       "Lerch Construction                                1\n",
       "Kehr Kirby                                        1\n",
       "Kent State Univ.                                  1\n",
       "Santa Maria Joint Union High School District      1\n",
       "Baupost                                           1\n",
       "Retired UNC-CH                                    1\n",
       "Kayak Software Corp                               1\n",
       "Slocum Dickson                                    1\n",
       "Allegheny Energy, Inc.                            1\n",
       "Island Style Weddings                             1\n",
       "Deloitte & Touche LLP                             1\n",
       "San Jaoquin County                                1\n",
       "Alston & Bird LLP                                 1\n",
       "Vesbridge Partners, LLC                           1\n",
       "Commonwealth Of Pennsylvania                      1\n",
       "Hussman Econometrics Advisors                     1\n",
       "Thornburg Investment Management                   1\n",
       "Perfect Circle CU                                 1\n",
       "Paddock Publishing, Inc                           1\n",
       "St. John & Associates                             1\n",
       "Binke's Restaurant                                1\n",
       "Ellis  Hospital                                   1\n",
       "Lucasfilm Ltd.                                    1\n",
       "Early McClintic & McMillan, LLP                   1\n",
       "Save The Children                                 1\n",
       "Joseph A Williams P.A. Attys At Law               1\n",
       "FreeLanceUSA                                      1\n",
       "Name: Employer, Length: 1008, dtype: int64"
      ]
     },
     "execution_count": 14,
     "metadata": {},
     "output_type": "execute_result"
    }
   ],
   "source": [
    "df['Employer'] = df['Employer'].replace({'Not Employed': 'Unemployed'})\n",
    "df['Employer'].value_counts()"
   ]
  },
  {
   "cell_type": "code",
   "execution_count": 15,
   "metadata": {
    "inputHidden": false,
    "outputHidden": false
   },
   "outputs": [
    {
     "data": {
      "text/html": [
       "<div>\n",
       "<style scoped>\n",
       "    .dataframe tbody tr th:only-of-type {\n",
       "        vertical-align: middle;\n",
       "    }\n",
       "\n",
       "    .dataframe tbody tr th {\n",
       "        vertical-align: top;\n",
       "    }\n",
       "\n",
       "    .dataframe thead th {\n",
       "        text-align: right;\n",
       "    }\n",
       "</style>\n",
       "<table border=\"1\" class=\"dataframe\">\n",
       "  <thead>\n",
       "    <tr style=\"text-align: right;\">\n",
       "      <th></th>\n",
       "      <th>Amount</th>\n",
       "    </tr>\n",
       "  </thead>\n",
       "  <tbody>\n",
       "    <tr>\n",
       "      <th>count</th>\n",
       "      <td>1743.000000</td>\n",
       "    </tr>\n",
       "    <tr>\n",
       "      <th>mean</th>\n",
       "      <td>640.124750</td>\n",
       "    </tr>\n",
       "    <tr>\n",
       "      <th>std</th>\n",
       "      <td>1242.343265</td>\n",
       "    </tr>\n",
       "    <tr>\n",
       "      <th>min</th>\n",
       "      <td>5.000000</td>\n",
       "    </tr>\n",
       "    <tr>\n",
       "      <th>25%</th>\n",
       "      <td>200.000000</td>\n",
       "    </tr>\n",
       "    <tr>\n",
       "      <th>50%</th>\n",
       "      <td>250.000000</td>\n",
       "    </tr>\n",
       "    <tr>\n",
       "      <th>75%</th>\n",
       "      <td>500.000000</td>\n",
       "    </tr>\n",
       "    <tr>\n",
       "      <th>max</th>\n",
       "      <td>5000.000000</td>\n",
       "    </tr>\n",
       "  </tbody>\n",
       "</table>\n",
       "</div>"
      ],
      "text/plain": [
       "            Amount\n",
       "count  1743.000000\n",
       "mean    640.124750\n",
       "std    1242.343265\n",
       "min       5.000000\n",
       "25%     200.000000\n",
       "50%     250.000000\n",
       "75%     500.000000\n",
       "max    5000.000000"
      ]
     },
     "execution_count": 15,
     "metadata": {},
     "output_type": "execute_result"
    }
   ],
   "source": [
    "# Display a statistical overview\n",
    "# We can infer the maximum allowable individual contribution from 'max'\n",
    "df.describe()"
   ]
  },
  {
   "cell_type": "code",
   "execution_count": null,
   "metadata": {},
   "outputs": [],
   "source": []
  }
 ],
 "metadata": {
  "anaconda-cloud": {},
  "kernel_info": {
   "name": "python3"
  },
  "kernelspec": {
   "display_name": "Python 3",
   "language": "python",
   "name": "python3"
  },
  "language_info": {
   "codemirror_mode": {
    "name": "ipython",
    "version": 3
   },
   "file_extension": ".py",
   "mimetype": "text/x-python",
   "name": "python",
   "nbconvert_exporter": "python",
   "pygments_lexer": "ipython3",
   "version": "3.7.3"
  },
  "nteract": {
   "version": "0.2.0"
  }
 },
 "nbformat": 4,
 "nbformat_minor": 2
}
